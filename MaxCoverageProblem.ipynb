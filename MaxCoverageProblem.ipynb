{
 "cells": [
  {
   "cell_type": "code",
   "execution_count": 46,
   "metadata": {},
   "outputs": [],
   "source": [
    "# useful additional packages \n",
    "import matplotlib.pyplot as plt\n",
    "import matplotlib.axes as axes\n",
    "%matplotlib inline\n",
    "import numpy as np\n",
    "import networkx as nx\n",
    "\n",
    "from qiskit import Aer\n",
    "from qiskit.tools.visualization import plot_histogram\n",
    "from qiskit.aqua import run_algorithm\n",
    "from qiskit.aqua.translators.ising import tsp\n",
    "from qiskit.aqua.algorithms import VQE, ExactEigensolver\n",
    "from qiskit.aqua.components.optimizers import COBYLA\n",
    "from qiskit.aqua.components.variational_forms import RY\n",
    "from qiskit.aqua import QuantumInstance\n",
    "\n",
    "# setup aqua logging\n",
    "import logging\n",
    "from qiskit.aqua import set_qiskit_aqua_logging\n",
    "# set_qiskit_aqua_logging(logging.DEBUG)  # choose INFO, DEBUG to see the log\n",
    "\n",
    "from docplex.mp.model import Model\n",
    "from qiskit.aqua.translators.ising import docplex\n",
    "from qiskit.aqua.operators import TPBGroupedWeightedPauliOperator\n",
    "from qiskit.aqua.operators.op_converter import to_tpb_grouped_weighted_pauli_operator"
   ]
  },
  {
   "cell_type": "code",
   "execution_count": 47,
   "metadata": {},
   "outputs": [],
   "source": [
    "# Define our variables\n",
    "\n",
    "n = 4 # facility locations\n",
    "m = 4 # demand nodes\n",
    "r = 65 # radius of coverage\n",
    "p = 2 # number of routers\n",
    "a = [4, 3, 5, 0] # population at a node"
   ]
  },
  {
   "cell_type": "code",
   "execution_count": 48,
   "metadata": {},
   "outputs": [
    {
     "name": "stdout",
     "output_type": "stream",
     "text": [
      "distance\n",
      " [[ 0.  7. 76. 54.]\n",
      " [ 7.  0. 80. 55.]\n",
      " [76. 80.  0. 39.]\n",
      " [54. 55. 39.  0.]]\n"
     ]
    },
    {
     "data": {
      "image/png": "[encoded data removed]",
      "text/plain": [
       "<Figure size 432x288 with 1 Axes>"
      ]
     },
     "metadata": {},
     "output_type": "display_data"
    }
   ],
   "source": [
    "seed = 10598\n",
    "\n",
    "ins = tsp.random_tsp(n)\n",
    "G = nx.Graph()\n",
    "G.add_nodes_from(np.arange(0, n, 1))\n",
    "colors = ['r' for node in G.nodes()]\n",
    "pos = {k: v for k, v in enumerate(ins.coord)}\n",
    "default_axes = plt.axes(frameon=True)\n",
    "nx.draw_networkx(G, node_color=colors, node_size=600, alpha=.8, ax=default_axes, pos=pos)\n",
    "print('distance\\n', ins.w)"
   ]
  },
  {
   "cell_type": "code",
   "execution_count": 50,
   "metadata": {},
   "outputs": [
    {
     "data": {
      "text/plain": [
       "array([[ 0.,  7., 76., 54.],\n",
       "       [ 7.,  0., 80., 55.],\n",
       "       [76., 80.,  0., 39.],\n",
       "       [54., 55., 39.,  0.]])"
      ]
     },
     "execution_count": 50,
     "metadata": {},
     "output_type": "execute_result"
    }
   ],
   "source": [
    "# get our distance matrix were columns \n",
    "dm = ins.w[0:m]\n",
    "dm"
   ]
  },
  {
   "cell_type": "code",
   "execution_count": 51,
   "metadata": {},
   "outputs": [
    {
     "data": {
      "text/plain": [
       "[[0, 1], [0, 1], [2], [3]]"
      ]
     },
     "execution_count": 51,
     "metadata": {},
     "output_type": "execute_result"
    }
   ],
   "source": [
    "N = []\n",
    "r = 20\n",
    "for j in range(m):\n",
    "    N_m = []\n",
    "    [N_m.append(i) for i,v in enumerate(dm[j]) if v <= r]\n",
    "    N.append(N_m)\n",
    "N"
   ]
  },
  {
   "cell_type": "code",
   "execution_count": 52,
   "metadata": {},
   "outputs": [
    {
     "data": {
      "text/plain": [
       "docplex.mp.LinearConstraint[](x_0+x_1+x_2+x_3,EQ,2)"
      ]
     },
     "execution_count": 52,
     "metadata": {},
     "output_type": "execute_result"
    }
   ],
   "source": [
    "# Create an instance of a model and variables\n",
    "\n",
    "mdl = Model(name='max_vars')\n",
    "x = {i: mdl.binary_var(name='x_{0}'.format(i)) for i in range(n)} # facility located at i\n",
    "y = {i: mdl.binary_var(name='y_{0}'.format(i)) for i in range(m)} # i is covered by a facility\n",
    "s0 = {i: mdl.binary_var(name='s0_{0}'.format(i)) for i in range(m)} # slack variable\n",
    "s1 = {i: mdl.binary_var(name='s1_{0}'.format(i)) for i in range(m)} # slack variable\n",
    "\n",
    "# Objective function\n",
    "max_vars_func = mdl.sum(a[i]*y[i] for i in range(m))\n",
    "mdl.maximize(max_vars_func)\n",
    "\n",
    "# Constraints\n",
    "for j in range(m):\n",
    "    mdl.add_constraint(mdl.sum(x[i] for i in N[j]) - s0[j] - s1[j] - y[j] == 0)\n",
    "\n",
    "# Constraint\n",
    "mdl.add_constraint(mdl.sum(x[i] for i in range(0,n)) == p)"
   ]
  },
  {
   "cell_type": "code",
   "execution_count": 53,
   "metadata": {},
   "outputs": [
    {
     "name": "stdout",
     "output_type": "stream",
     "text": [
      "\\ This file has been generated by DOcplex\n",
      "\\ ENCODING=ISO-8859-1\n",
      "\\Problem name: max_vars\n",
      "\n",
      "Maximize\n",
      " obj: 4 y_0 + 3 y_1 + 5 y_2\n",
      "Subject To\n",
      " c1: x_0 + x_1 - y_0 - s0_0 - s1_0 = 0\n",
      " c2: x_0 + x_1 - y_1 - s0_1 - s1_1 = 0\n",
      " c3: x_2 - y_2 - s0_2 - s1_2 = 0\n",
      " c4: x_3 - y_3 - s0_3 - s1_3 = 0\n",
      " c5: x_0 + x_1 + x_2 + x_3 = 2\n",
      "\n",
      "Bounds\n",
      " 0 <= x_0 <= 1\n",
      " 0 <= x_1 <= 1\n",
      " 0 <= x_2 <= 1\n",
      " 0 <= x_3 <= 1\n",
      " 0 <= y_0 <= 1\n",
      " 0 <= y_1 <= 1\n",
      " 0 <= y_2 <= 1\n",
      " 0 <= y_3 <= 1\n",
      " 0 <= s0_0 <= 1\n",
      " 0 <= s0_1 <= 1\n",
      " 0 <= s0_2 <= 1\n",
      " 0 <= s0_3 <= 1\n",
      " 0 <= s1_0 <= 1\n",
      " 0 <= s1_1 <= 1\n",
      " 0 <= s1_2 <= 1\n",
      " 0 <= s1_3 <= 1\n",
      "\n",
      "Binaries\n",
      " x_0 x_1 x_2 x_3 y_0 y_1 y_2 y_3 s0_0 s0_1 s0_2 s0_3 s1_0 s1_1 s1_2 s1_3\n",
      "End\n",
      "\n"
     ]
    }
   ],
   "source": [
    "print(mdl.export_to_string())"
   ]
  },
  {
   "cell_type": "code",
   "execution_count": 54,
   "metadata": {},
   "outputs": [],
   "source": [
    "qubitOp, offset = docplex.get_qubitops(mdl)"
   ]
  },
  {
   "cell_type": "code",
   "execution_count": 55,
   "metadata": {},
   "outputs": [],
   "source": [
    "ee = ExactEigensolver(qubitOp, k=1)\n",
    "result = ee.run()"
   ]
  },
  {
   "cell_type": "code",
   "execution_count": 56,
   "metadata": {},
   "outputs": [
    {
     "data": {
      "text/plain": [
       "{'eigvals': array([-110.+0.j]),\n",
       " 'eigvecs': array([[0., 0., 0., ..., 0., 0., 0.]]),\n",
       " 'energy': -110.0,\n",
       " 'wavefunction': array([[0., 0., 0., ..., 0., 0., 0.]]),\n",
       " 'energies': array([-110.])}"
      ]
     },
     "execution_count": 56,
     "metadata": {},
     "output_type": "execute_result"
    }
   ],
   "source": [
    "result"
   ]
  },
  {
   "cell_type": "code",
   "execution_count": 57,
   "metadata": {},
   "outputs": [
    {
     "name": "stdout",
     "output_type": "stream",
     "text": [
      "objective: -12.0\n"
     ]
    }
   ],
   "source": [
    "print('objective:', result['energy'] + offset) # offset is the constant part that cannot be optimised "
   ]
  },
  {
   "cell_type": "code",
   "execution_count": 58,
   "metadata": {},
   "outputs": [
    {
     "name": "stdout",
     "output_type": "stream",
     "text": [
      "sol: [1. 0. 1. 0. 1. 1. 1. 0. 0. 0. 0. 0. 0. 0. 0. 0.]\n",
      "x: [1. 0. 1. 0.]\n",
      "y: [1. 1. 1. 0.]\n",
      "slack: [0. 0. 0. 0.]\n",
      "slack: [0. 0. 0. 0.]\n",
      "coverage: 12.0 out of 12\n"
     ]
    }
   ],
   "source": [
    "sol = docplex.sample_most_likely(result['eigvecs'][0])\n",
    "\n",
    "x = sol[:n]\n",
    "y = sol[n:n+m]\n",
    "s_0 = sol[n+m:n+2*m]\n",
    "s_1 = sol[n+2*m:]\n",
    "print('sol:', sol)\n",
    "print('x:', x)\n",
    "print('y:', y)\n",
    "print('slack:', s_0)\n",
    "print('slack:', s_1)\n",
    "cov = sum(a[i] * y[i] for i in range(m))\n",
    "print('coverage:', cov, 'out of', sum(a))"
   ]
  },
  {
   "cell_type": "code",
   "execution_count": 59,
   "metadata": {},
   "outputs": [
    {
     "name": "stdout",
     "output_type": "stream",
     "text": [
      "1 16\n"
     ]
    }
   ],
   "source": [
    "# Quantum Time\n",
    "tpb_op = to_tpb_grouped_weighted_pauli_operator(qubitOp, TPBGroupedWeightedPauliOperator.sorted_grouping)\n",
    "print(tpb_op.num_groups, tpb_op.num_qubits)\n",
    "cobyla = COBYLA(maxiter=40)\n",
    "ry = RY(tpb_op.num_qubits, depth=2, entanglement='linear')\n",
    "vqe = VQE(tpb_op, ry, cobyla)\n",
    "backend = Aer.get_backend('statevector_simulator')\n",
    "quantum_instance = QuantumInstance(backend, seed_simulator=10598, seed_transpiler=10598)"
   ]
  },
  {
   "cell_type": "code",
   "execution_count": 60,
   "metadata": {},
   "outputs": [],
   "source": [
    "result = vqe.run(quantum_instance)"
   ]
  },
  {
   "cell_type": "code",
   "execution_count": 61,
   "metadata": {},
   "outputs": [
    {
     "name": "stdout",
     "output_type": "stream",
     "text": [
      "x: [1. 0. 1. 0.]\n",
      "y: [1. 1. 1. 0.]\n",
      "slack: [0. 0. 0. 0.]\n",
      "slack: [0. 0. 0. 0.]\n",
      "coverage: 12.0 out of 12\n"
     ]
    }
   ],
   "source": [
    "sol = docplex.sample_most_likely(result['eigvecs'][0])\n",
    "\n",
    "print('x:', x)\n",
    "print('y:', y)\n",
    "print('slack:', s_0)\n",
    "print('slack:', s_1)\n",
    "cov = sum(a[i] * y[i] for i in range(m))\n",
    "print('coverage:', cov, 'out of', sum(a))"
   ]
  },
  {
   "cell_type": "code",
   "execution_count": 63,
   "metadata": {},
   "outputs": [
    {
     "data": {
      "text/plain": [
       "{'qiskit-terra': '0.11.0',\n",
       " 'qiskit-aer': '0.3.4',\n",
       " 'qiskit-ignis': '0.2.0',\n",
       " 'qiskit-ibmq-provider': '0.4.4',\n",
       " 'qiskit-aqua': '0.6.1',\n",
       " 'qiskit': '0.14.0'}"
      ]
     },
     "execution_count": 63,
     "metadata": {},
     "output_type": "execute_result"
    }
   ],
   "source": [
    "import qiskit\n",
    "qiskit.__qiskit_version__"
   ]
  }
 ],
 "metadata": {
  "kernelspec": {
   "display_name": "Python 3",
   "language": "python",
   "name": "python3"
  },
  "language_info": {
   "codemirror_mode": {
    "name": "ipython",
    "version": 3
   },
   "file_extension": ".py",
   "mimetype": "text/x-python",
   "name": "python",
   "nbconvert_exporter": "python",
   "pygments_lexer": "ipython3",
   "version": "3.7.3"
  }
 },
 "nbformat": 4,
 "nbformat_minor": 2
}
