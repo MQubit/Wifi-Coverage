{
 "cells": [
  {
   "cell_type": "code",
   "execution_count": 31,
   "metadata": {},
   "outputs": [],
   "source": [
    "# useful additional packages \n",
    "import matplotlib.pyplot as plt\n",
    "import matplotlib.axes as axes\n",
    "%matplotlib inline\n",
    "import numpy as np\n",
    "import networkx as nx\n",
    "\n",
    "from qiskit import Aer\n",
    "from qiskit.tools.visualization import plot_histogram\n",
    "from qiskit.aqua import run_algorithm\n",
    "from qiskit.aqua.input import EnergyInput\n",
    "from qiskit.aqua.translators.ising import max_cut, tsp\n",
    "from qiskit.aqua.algorithms import VQE, ExactEigensolver\n",
    "from qiskit.aqua.components.optimizers import SPSA, COBYLA\n",
    "from qiskit.aqua.components.variational_forms import RY\n",
    "from qiskit.aqua import QuantumInstance\n",
    "\n",
    "# setup aqua logging\n",
    "import logging\n",
    "from qiskit.aqua import set_qiskit_aqua_logging\n",
    "# set_qiskit_aqua_logging(logging.DEBUG)  # choose INFO, DEBUG to see the log\n",
    "\n",
    "from docplex.mp.model import Model\n",
    "from qiskit.aqua.translators.ising import docplex\n",
    "from qiskit.aqua.operators import TPBGroupedWeightedPauliOperator\n",
    "from qiskit.aqua.operators.op_converter import to_tpb_grouped_weighted_pauli_operator\n",
    "# Loading your IBM Q account(s)\n",
    "# provider = IBMQ.load_account()"
   ]
  },
  {
   "cell_type": "code",
   "execution_count": 3,
   "metadata": {},
   "outputs": [],
   "source": [
    "# Define our variables\n",
    "\n",
    "n = 5 # facility locations\n",
    "m = 4 # demand nodes\n",
    "s = 50 # radius of coverage\n",
    "p = 2 # number of routers \n",
    "a = [4, 3, 2, 1] # population at a node"
   ]
  },
  {
   "cell_type": "code",
   "execution_count": 4,
   "metadata": {},
   "outputs": [
    {
     "name": "stdout",
     "output_type": "stream",
     "text": [
      "distance\n",
      " [[ 0. 86. 39. 70. 88.]\n",
      " [86.  0. 48. 57. 11.]\n",
      " [39. 48.  0. 49. 50.]\n",
      " [70. 57. 49.  0. 49.]\n",
      " [88. 11. 50. 49.  0.]]\n"
     ]
    },
    {
     "data": {
      "image/png": "[encoded data removed]",
      "text/plain": [
       "<Figure size 432x288 with 1 Axes>"
      ]
     },
     "metadata": {},
     "output_type": "display_data"
    }
   ],
   "source": [
    "seed = 10598\n",
    "\n",
    "num_qubits = n ** 2\n",
    "ins = tsp.random_tsp(n)\n",
    "G = nx.Graph()\n",
    "G.add_nodes_from(np.arange(0, n, 1))\n",
    "colors = ['r' for node in G.nodes()]\n",
    "pos = {k: v for k, v in enumerate(ins.coord)}\n",
    "default_axes = plt.axes(frameon=True)\n",
    "nx.draw_networkx(G, node_color=colors, node_size=600, alpha=.8, ax=default_axes, pos=pos)\n",
    "print('distance\\n', ins.w)"
   ]
  },
  {
   "cell_type": "code",
   "execution_count": 5,
   "metadata": {},
   "outputs": [
    {
     "data": {
      "text/plain": [
       "array([[ 0., 86., 39., 70., 88.],\n",
       "       [86.,  0., 48., 57., 11.],\n",
       "       [39., 48.,  0., 49., 50.],\n",
       "       [70., 57., 49.,  0., 49.]])"
      ]
     },
     "execution_count": 5,
     "metadata": {},
     "output_type": "execute_result"
    }
   ],
   "source": [
    "# get our distance matrix were columns \n",
    "ins.w[0:m]"
   ]
  },
  {
   "cell_type": "code",
   "execution_count": 6,
   "metadata": {},
   "outputs": [
    {
     "data": {
      "text/plain": [
       "array([[88.],\n",
       "       [11.],\n",
       "       [50.],\n",
       "       [49.]])"
      ]
     },
     "execution_count": 6,
     "metadata": {},
     "output_type": "execute_result"
    }
   ],
   "source": [
    "# get our distance matrix were columns \n",
    "ins.w[0:m, m:n]"
   ]
  },
  {
   "cell_type": "code",
   "execution_count": 7,
   "metadata": {},
   "outputs": [],
   "source": [
    "N = []\n",
    "N.append([0,1,2])\n",
    "N.append([0,1,2])\n",
    "N.append([0,1,2,3])\n",
    "N.append([2,3,4])"
   ]
  },
  {
   "cell_type": "code",
   "execution_count": 8,
   "metadata": {},
   "outputs": [],
   "source": [
    "# Create an instance of a model and variables\n",
    "\n",
    "mdl = Model(name='max_vars')\n",
    "x = {i: mdl.binary_var(name='x_{0}'.format(i)) for i in range(n)} # facility located at i\n",
    "y = {i: mdl.binary_var(name='y_{0}'.format(i)) for i in range(m)} # i is covered by a facility\n",
    "s0 = {i: mdl.binary_var(name='s0_{0}'.format(i)) for i in range(n)} # slack variable\n",
    "s1 = {i: mdl.binary_var(name='s1_{0}'.format(i)) for i in range(n)} # slack variable"
   ]
  },
  {
   "cell_type": "code",
   "execution_count": 9,
   "metadata": {},
   "outputs": [],
   "source": [
    "# Objective function\n",
    "max_vars_func = mdl.sum(a[i]*y[i] for i in range(m))\n",
    "mdl.maximize(max_vars_func)"
   ]
  },
  {
   "cell_type": "code",
   "execution_count": 10,
   "metadata": {},
   "outputs": [],
   "source": [
    "# Constraints\n",
    "for j in range(m):\n",
    "    mdl.add_constraint(mdl.sum(x[i] for i in N[j]) - s0[j] - s1[j] == y[j] )"
   ]
  },
  {
   "cell_type": "code",
   "execution_count": 11,
   "metadata": {},
   "outputs": [
    {
     "data": {
      "text/plain": [
       "docplex.mp.LinearConstraint[](x_0+x_1+x_2+x_3+x_4,EQ,2)"
      ]
     },
     "execution_count": 11,
     "metadata": {},
     "output_type": "execute_result"
    }
   ],
   "source": [
    "# Constraint\n",
    "mdl.add_constraint(mdl.sum(x[i] for i in range(0,n)) == p)"
   ]
  },
  {
   "cell_type": "code",
   "execution_count": 12,
   "metadata": {},
   "outputs": [
    {
     "name": "stdout",
     "output_type": "stream",
     "text": [
      "\\ This file has been generated by DOcplex\n",
      "\\ ENCODING=ISO-8859-1\n",
      "\\Problem name: max_vars\n",
      "\n",
      "Maximize\n",
      " obj: 4 y_0 + 3 y_1 + 2 y_2 + y_3\n",
      "Subject To\n",
      " c1: x_0 + x_1 + x_2 - s0_0 - s1_0 - y_0 = 0\n",
      " c2: x_0 + x_1 + x_2 - s0_1 - s1_1 - y_1 = 0\n",
      " c3: x_0 + x_1 + x_2 + x_3 - s0_2 - s1_2 - y_2 = 0\n",
      " c4: x_2 + x_3 + x_4 - s0_3 - s1_3 - y_3 = 0\n",
      " c5: x_0 + x_1 + x_2 + x_3 + x_4 = 2\n",
      "\n",
      "Bounds\n",
      " 0 <= x_0 <= 1\n",
      " 0 <= x_1 <= 1\n",
      " 0 <= x_2 <= 1\n",
      " 0 <= x_3 <= 1\n",
      " 0 <= x_4 <= 1\n",
      " 0 <= y_0 <= 1\n",
      " 0 <= y_1 <= 1\n",
      " 0 <= y_2 <= 1\n",
      " 0 <= y_3 <= 1\n",
      " 0 <= s0_0 <= 1\n",
      " 0 <= s0_1 <= 1\n",
      " 0 <= s0_2 <= 1\n",
      " 0 <= s0_3 <= 1\n",
      " 0 <= s0_4 <= 1\n",
      " 0 <= s1_0 <= 1\n",
      " 0 <= s1_1 <= 1\n",
      " 0 <= s1_2 <= 1\n",
      " 0 <= s1_3 <= 1\n",
      " 0 <= s1_4 <= 1\n",
      "\n",
      "Binaries\n",
      " x_0 x_1 x_2 x_3 x_4 y_0 y_1 y_2 y_3 s0_0 s0_1 s0_2 s0_3 s0_4 s1_0 s1_1 s1_2\n",
      " s1_3 s1_4\n",
      "End\n",
      "\n"
     ]
    }
   ],
   "source": [
    "print(mdl.export_to_string())"
   ]
  },
  {
   "cell_type": "code",
   "execution_count": 13,
   "metadata": {},
   "outputs": [],
   "source": [
    "qubitOp, offset = docplex.get_qubitops(mdl)"
   ]
  },
  {
   "cell_type": "code",
   "execution_count": 14,
   "metadata": {},
   "outputs": [],
   "source": [
    "ee = ExactEigensolver(qubitOp, k=1)\n",
    "result = ee.run()"
   ]
  },
  {
   "cell_type": "code",
   "execution_count": 15,
   "metadata": {},
   "outputs": [
    {
     "data": {
      "text/plain": [
       "{'eigvals': array([-98.5+0.j]),\n",
       " 'eigvecs': array([[0., 0., 0., ..., 0., 0., 0.]]),\n",
       " 'energy': -98.5,\n",
       " 'wavefunction': array([[0., 0., 0., ..., 0., 0., 0.]]),\n",
       " 'energies': array([-98.5])}"
      ]
     },
     "execution_count": 15,
     "metadata": {},
     "output_type": "execute_result"
    }
   ],
   "source": [
    "result"
   ]
  },
  {
   "cell_type": "code",
   "execution_count": 16,
   "metadata": {},
   "outputs": [
    {
     "name": "stdout",
     "output_type": "stream",
     "text": [
      "objective: -10.0\n"
     ]
    }
   ],
   "source": [
    "print('objective:', result['energy'] + offset) # offset is the constant part that cannot be optimised "
   ]
  },
  {
   "cell_type": "code",
   "execution_count": 17,
   "metadata": {},
   "outputs": [
    {
     "name": "stdout",
     "output_type": "stream",
     "text": [
      "x: [0. 1. 0. 1. 0.]\n",
      "y: [1. 1. 1. 1.]\n",
      "coverage 10.0\n"
     ]
    }
   ],
   "source": [
    "sol = docplex.sample_most_likely(result['eigvecs'][0])\n",
    "x = sol[:5]\n",
    "y = sol[5:9]\n",
    "print('x:', x)\n",
    "print('y:', y)\n",
    "cov = sum(a[i] * y[i] for i in range(4))\n",
    "print('coverage', cov)"
   ]
  },
  {
   "cell_type": "code",
   "execution_count": 39,
   "metadata": {},
   "outputs": [
    {
     "name": "stdout",
     "output_type": "stream",
     "text": [
      "1 19\n"
     ]
    }
   ],
   "source": [
    "# Quantum Time\n",
    "tpb_op = to_tpb_grouped_weighted_pauli_operator(qubitOp, TPBGroupedWeightedPauliOperator.sorted_grouping)\n",
    "print(tpb_op.num_groups, tpb_op.num_qubits)\n",
    "spsa = COBYLA(maxiter=20)\n",
    "ry = RY(tpb_op.num_qubits, depth=2, entanglement='linear')\n",
    "vqe = VQE(tpb_op, ry, spsa)\n",
    "backend = Aer.get_backend('statevector_simulator')\n",
    "quantum_instance = QuantumInstance(backend, seed_simulator=10598, seed_transpiler=10598)"
   ]
  },
  {
   "cell_type": "code",
   "execution_count": 40,
   "metadata": {},
   "outputs": [
    {
     "name": "stdout",
     "output_type": "stream",
     "text": [
      "energy: -35.69909180758792\n",
      "solution objective: 52.80090819241208\n",
      "x: [0. 1. 1. 0. 0.]\n",
      "y: [1. 1. 1. 0.]\n",
      "coverage 9.0\n"
     ]
    }
   ],
   "source": [
    "result = vqe.run(quantum_instance)\n",
    "\n",
    "sol = docplex.sample_most_likely(result['eigvecs'][0])\n",
    "x = sol[:5]\n",
    "y = sol[5:9]\n",
    "print('energy:', result['energy'])\n",
    "print('solution objective:', result['energy'] + offset)\n",
    "print('x:', x)\n",
    "print('y:', y)\n",
    "cov = sum(a[i] * y[i] for i in range(4))\n",
    "print('coverage', cov)"
   ]
  },
  {
   "cell_type": "code",
   "execution_count": null,
   "metadata": {},
   "outputs": [],
   "source": []
  }
 ],
 "metadata": {
  "kernelspec": {
   "display_name": "Python 3",
   "language": "python",
   "name": "python3"
  },
  "language_info": {
   "codemirror_mode": {
    "name": "ipython",
    "version": 3
   },
   "file_extension": ".py",
   "mimetype": "text/x-python",
   "name": "python",
   "nbconvert_exporter": "python",
   "pygments_lexer": "ipython3",
   "version": "3.7.3"
  }
 },
 "nbformat": 4,
 "nbformat_minor": 2
}
